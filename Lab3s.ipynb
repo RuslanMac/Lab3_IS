{
  "nbformat": 4,
  "nbformat_minor": 0,
  "metadata": {
    "colab": {
      "name": "Lab3s.ipynb",
      "provenance": [],
      "collapsed_sections": []
    },
    "kernelspec": {
      "name": "python3",
      "display_name": "Python 3"
    }
  },
  "cells": [
    {
      "cell_type": "code",
      "metadata": {
        "colab": {
          "base_uri": "https://localhost:8080/"
        },
        "id": "kIfiPLPZcn_P",
        "outputId": "6472f434-c225-46e2-a87e-5c40b81377cf"
      },
      "source": [
        "import math\n",
        "import numpy as np\n",
        "\n",
        "symbols = ['а', 'б', 'в', 'г', 'д', 'е', 'ё', 'ж', 'з', 'и', 'й', 'к', 'л',\n",
        "              'м', 'н', 'о', 'п', 'р', 'с', 'т', 'у', 'ф', 'х', 'ц', 'ч', \n",
        "               'ш', 'щ', 'ъ', 'ы', 'ь', 'э', 'ю', 'я', 'А', 'Б', 'В', 'Г', 'Д', 'Е', 'Ё', 'Ж', 'З',\n",
        "                'И', 'Й', 'К', 'Л', 'М', 'Н', 'О', 'П', 'Р', 'С', 'Т', 'У', 'Ф', 'Х', 'Ц', 'Ч', \n",
        "                 'Ш', 'Щ', 'Ъ', 'Ы', 'Ь', 'Э', 'Ю', 'Я', ' ', '.', ':', '!', '?', ',']\n",
        "\n",
        "key = np.array([[1,2,3],\n",
        "       [4,5,6],\n",
        "       [7,15,29]])\n",
        "\n",
        "tableSymbol = dict([(symbols[i], i) for i in range(len(symbols))])\n",
        "\n",
        "\n",
        "\n",
        "\n",
        "\n",
        "\n",
        "\n",
        "print(\"Введите сообщение, пожалуйста\")\n",
        "inputstr = input()\n",
        "inputstrLengtht = len(inputstr)\n",
        "def encodeMessage():\n",
        "  matrix = np.array([])\n",
        "  vc = np.zeros((3,1))\n",
        "  i=0 \n",
        "  while i < len(inputstr):\n",
        "    for k in range(3):\n",
        "      if i<len(inputstr):\n",
        "        vc[k]=tableSymbol[inputstr[i]]\n",
        "        i=i+1\n",
        "      else:\n",
        "        vc[k]=0\n",
        "    result = np.dot(key,vc)\n",
        "    matrix = np.concatenate((matrix,result), axis = None) \n",
        "    \n",
        "  return matrix\n",
        "\n",
        "try:\n",
        "  resultMatrix = encodeMessage() \n",
        "\n",
        "  \n",
        "  print(\"Результат:\" + str(resultMatrix))\n",
        "  newText = decodeMessage()\n",
        "  newText = newText[:inputstrLengtht]\n",
        "  print(\"Начальное сообщение: \") \n",
        "  print(newText)\n",
        "except Exception:\n",
        "  print(Exception)\n",
        "\n",
        "def decodeMessage():\n",
        "  i=0\n",
        "  matrix = np.array([])\n",
        "  while i < len(resultMatrix):\n",
        "    xp=14\n",
        "    matrix1 = resultMatrix[i:i+3]\n",
        "    i = i + 3\n",
        "    text =np.dot(np.linalg.inv(key), matrix1)     \n",
        "    matrix = np.concatenate((matrix, text), axis = None)  \n",
        "  message = \"\"\n",
        "  for i in matrix: \n",
        "    message = message + str(get_key(i)) \n",
        "    #message = message + tableSymbol.keys()[list(tableSymbol.values()).index(i)]\n",
        "    k=15\n",
        "    st = 27\n",
        "  return message \n",
        "\n",
        "\n",
        "def   get_key(i):\n",
        "  for key, value in tableSymbol.items():\n",
        "      if value == round(i):\n",
        "        return key\n",
        "\n",
        "\n",
        "\n"
      ],
      "execution_count": 5,
      "outputs": [
        {
          "output_type": "stream",
          "text": [
            "Введите сообщение, пожалуйста\n",
            "Привет новый магазин\n",
            "Результат:[ 110.  335.  859.   69.  147.  640.  139.  424. 1107.   88.  208.  724.\n",
            "   92.  329.  657.   27.   60.  253.   37.  106.  273.]\n",
            "Начальное сообщение: \n",
            "Привет новый магазин\n"
          ],
          "name": "stdout"
        }
      ]
    }
  ]
}