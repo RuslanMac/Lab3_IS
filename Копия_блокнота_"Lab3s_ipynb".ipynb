{
  "nbformat": 4,
  "nbformat_minor": 0,
  "metadata": {
    "colab": {
      "name": "Копия блокнота \"Lab3s.ipynb\"",
      "provenance": [],
      "collapsed_sections": [],
      "include_colab_link": true
    },
    "kernelspec": {
      "name": "python3",
      "display_name": "Python 3"
    }
  },
  "cells": [
    {
      "cell_type": "markdown",
      "metadata": {
        "id": "view-in-github",
        "colab_type": "text"
      },
      "source": [
        "<a href=\"https://colab.research.google.com/github/RuslanMac/Lab3_IS/blob/main/%D0%9A%D0%BE%D0%BF%D0%B8%D1%8F_%D0%B1%D0%BB%D0%BE%D0%BA%D0%BD%D0%BE%D1%82%D0%B0_%22Lab3s_ipynb%22.ipynb\" target=\"_parent\"><img src=\"https://colab.research.google.com/assets/colab-badge.svg\" alt=\"Open In Colab\"/></a>"
      ]
    },
    {
      "cell_type": "code",
      "metadata": {
        "colab": {
          "base_uri": "https://localhost:8080/"
        },
        "id": "kIfiPLPZcn_P",
        "outputId": "a709a591-9a85-42b8-eae6-c6b95d7b73b9"
      },
      "source": [
        "import math\n",
        "import numpy as np\n",
        "\n",
        "symbols = ['а', 'б', 'в', 'г', 'д', 'е', 'ё', 'ж', 'з', 'и', 'й', 'к', 'л',\n",
        "              'м', 'н', 'о', 'п', 'р', 'с', 'т', 'у', 'ф', 'х', 'ц', 'ч', \n",
        "               'ш', 'щ', 'ъ', 'ы', 'ь', 'э', 'ю', 'я', 'А', 'Б', 'В', 'Г', 'Д', 'Е', 'Ё', 'Ж', 'З',\n",
        "                'И', 'Й', 'К', 'Л', 'М', 'Н', 'О', 'П', 'Р', 'С', 'Т', 'У', 'Ф', 'Х', 'Ц', 'Ч', \n",
        "                 'Ш', 'Щ', 'Ъ', 'Ы', 'Ь', 'Э', 'Ю', 'Я', ' ', '.', ':', '!', '?', ',']\n",
        "\n",
        "key = np.array([[1,2,3],\n",
        "       [4,5,6],\n",
        "       [7,15,29]])\n",
        "\n",
        "tableSymbol = dict([(symbols[i], i) for i in range(len(symbols))])\n",
        "\n",
        "\n",
        "inputstr = \"\"\n",
        "inputstrLength = 0\n",
        "\n",
        "resultMatrix = np.array([])\n",
        "\n",
        "try:\n",
        "  \n",
        "\n",
        "\n",
        "  print(\"Введите сообщение, пожалуйста\")\n",
        "  inputstr = input()\n",
        "  inputstrLengtht = len(inputstr)\n",
        "  print(\"Необходимо ввести матрицу:\")\n",
        "  for i in range(3):\n",
        "    for j in range(3):\n",
        "      print('строка=' + str(i) + ' ' + 'столбец='+ str(j))\n",
        "      key[i,j] = int(input())\n",
        "      if np.linalg.det(key) == 0:\n",
        "        raise Exception \n",
        "  StartMake()\n",
        "\n",
        "except Exception:\n",
        "  print(\"Неправильный формат данных, повторите пожалуйста!\")  \n",
        "\n",
        "def encodeMessage():\n",
        "  matrix = np.array([])\n",
        "  vc = np.zeros((3,1))\n",
        "  i=0 \n",
        "  while i < len(inputstr):\n",
        "    for k in range(3):\n",
        "      if i<len(inputstr):\n",
        "        vc[k]=tableSymbol[inputstr[i]]\n",
        "        i=i+1\n",
        "      else:\n",
        "        vc[k]=0\n",
        "    result = np.dot(key,vc)\n",
        "    matrix = np.concatenate((matrix,result), axis = None) \n",
        "    \n",
        "  return matrix\n",
        "\n",
        "\n",
        "def StartMake():\n",
        "  resultMatrix = encodeMessage() \n",
        "  inputstrLength = len(inputstr) \n",
        "\n",
        "  print(\"Результат:\" + str(resultMatrix))\n",
        "  newText = decodeMessage(resultMatrix)\n",
        "  newText = newText[:inputstrLengtht]\n",
        "  print(\"Начальное сообщение: \") \n",
        "  print(newText)\n",
        "\n",
        "\n",
        "def decodeMessage(resultMatrix): \n",
        "  i=0\n",
        "  matrix = np.array([])\n",
        "  while i < len(resultMatrix):\n",
        "    xp=14\n",
        "    matrix1 = resultMatrix[i:i+3]\n",
        "    i = i + 3\n",
        "    text =np.dot(np.linalg.inv(key), matrix1)     \n",
        "    matrix = np.concatenate((matrix, text), axis = None)  \n",
        "  message = \"\"\n",
        "  for i in matrix: \n",
        "    message = message + str(get_key(i)) \n",
        "    #message = message + tableSymbol.keys()[list(tableSymbol.values()).index(i)]\n",
        "    k=15\n",
        "    st = 27\n",
        "  return message \n",
        "\n",
        "\n",
        "def  get_key(i):\n",
        "  for key, value in tableSymbol.items():\n",
        "      if value == round(i):\n",
        "        return key\n",
        "\n",
        "\n",
        "\n"
      ],
      "execution_count": null,
      "outputs": [
        {
          "output_type": "stream",
          "text": [
            "Введите сообщение, пожалуйста\n",
            "Привет, хорошая погода!\n",
            "Необходимо ввести матрицу:\n",
            "строка=0 столбец=0\n",
            "3\n",
            "строка=0 столбец=1\n",
            "3\n",
            "строка=0 столбец=2\n",
            "3\n",
            "строка=1 столбец=0\n",
            "27\n",
            "строка=1 столбец=1\n",
            "27\n",
            "строка=1 столбец=2\n",
            "27\n",
            "Неправильный формат данных, повторите пожалуйста!\n"
          ],
          "name": "stdout"
        }
      ]
    }
  ]
}